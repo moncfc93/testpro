{
 "cells": [
  {
   "cell_type": "markdown",
   "id": "d82a033b-7e92-43d4-bd40-f2719fde94c5",
   "metadata": {
    "tags": []
   },
   "source": [
    "# Data science tools and ecosystem \n"
   ]
  },
  {
   "cell_type": "markdown",
   "id": "42486394-8093-41ba-9c99-d7cfea2d9fe2",
   "metadata": {},
   "source": [
    "In this notebook,data science tools and ecosystem "
   ]
  },
  {
   "cell_type": "markdown",
   "id": "688d6c6b-94b2-4a7b-acad-fc9ab891a981",
   "metadata": {},
   "source": [
    " ##### Some of the popular languages that Data Scientists use are:\n",
    "1. Python.\n",
    "2. R.\n",
    "3. SQL.\n",
    "4. Java.etc.."
   ]
  },
  {
   "cell_type": "markdown",
   "id": "c6b34341-3508-4e31-a4f9-204ad31a66f0",
   "metadata": {},
   "source": [
    "##### Some of the commonly used libraries used by Data Scientists include:\n",
    "\n",
    "* TensorFlow.\n",
    "* NumPy.\n",
    "* SciPy.\n",
    "* Pandas.\n",
    "* Matplotlib.\n",
    "* Keras.\n",
    "* SciKit-Learn.\n",
    "* PyTorch.\n",
    "* Scrapy.\n",
    "* BeautifulSoup.\n",
    "* LightGBM.\n",
    "* ELI5.\n",
    "* Theano.\n",
    "* NuPIC.\n",
    "* Ramp.\n",
    "* Pipenv.\n",
    "* Bob.\n",
    "* PyBrain.\n",
    "* Caffe2.\n",
    "* Chainer."
   ]
  },
  {
   "cell_type": "markdown",
   "id": "175980e2-c92c-475b-9dde-f66abab7b404",
   "metadata": {},
   "source": [
    "| data science tools |\n",
    "|---|\n",
    "|SAS|\n",
    "|Apache Hadoop|\n",
    "|tensorflow|"
   ]
  },
  {
   "cell_type": "markdown",
   "id": "35a3c7db-3077-4df0-bfbd-defeb9c59f2f",
   "metadata": {
    "tags": []
   },
   "source": [
    "#### Below are a few examples of evaluating arithmetic expressions in Python\n"
   ]
  },
  {
   "cell_type": "code",
   "execution_count": 3,
   "id": "b793087b-9dca-4abf-9f03-0859e326cdf4",
   "metadata": {
    "tags": []
   },
   "outputs": [
    {
     "data": {
      "text/plain": [
       "17"
      ]
     },
     "execution_count": 3,
     "metadata": {},
     "output_type": "execute_result"
    }
   ],
   "source": [
    "# this is a common orithemtic example to multiply and then add intergers\n",
    "(3*4)+5"
   ]
  },
  {
   "cell_type": "code",
   "execution_count": 6,
   "id": "f3968740-f5df-498d-a8f3-26c7c0d82fcc",
   "metadata": {
    "tags": []
   },
   "outputs": [
    {
     "data": {
      "text/plain": [
       "9"
      ]
     },
     "execution_count": 6,
     "metadata": {},
     "output_type": "execute_result"
    }
   ],
   "source": [
    "# Arithmetic operations\n",
    "code = compile(\"5 + 4\", \"<string>\", \"eval\")\n",
    "eval(code)\n"
   ]
  },
  {
   "cell_type": "code",
   "execution_count": 7,
   "id": "2a97f890-4d15-4be8-8874-b6afa9716b01",
   "metadata": {
    "tags": []
   },
   "outputs": [
    {
     "data": {
      "text/plain": [
       "24"
      ]
     },
     "execution_count": 7,
     "metadata": {},
     "output_type": "execute_result"
    }
   ],
   "source": [
    "code1 = compile(\"(5 + 7) * 2\", \"<string>\", \"eval\")\n",
    "eval(code1)\n"
   ]
  },
  {
   "cell_type": "markdown",
   "id": "2633e261-3c67-45c3-b05b-eba5483367ae",
   "metadata": {},
   "source": [
    "##### This will convert 200 minutes to hours by diving by 60\n",
    "\n"
   ]
  },
  {
   "cell_type": "code",
   "execution_count": 4,
   "id": "892aca83-551c-4580-98e6-fda3e7ed2de8",
   "metadata": {
    "tags": []
   },
   "outputs": [
    {
     "name": "stdout",
     "output_type": "stream",
     "text": [
      "0 days, 3.3333333333333335 hours, 0 mins. \n"
     ]
    }
   ],
   "source": [
    "days = 0\n",
    "hours = 0\n",
    "mins = 0\n",
    "\n",
    "time = 200\n",
    "#days = time / 1440\n",
    "leftover_minutes = time % 1440\n",
    "hours = leftover_minutes / 60\n",
    "#mins = time - (days*1440) - (hours*60)\n",
    "print(str(days) + \" days, \" + str(hours) + \" hours, \" + str(mins) +  \" mins. \")"
   ]
  },
  {
   "cell_type": "markdown",
   "id": "b4111e40-c79a-40f3-85d3-5e7273f59bfe",
   "metadata": {},
   "source": [
    "__Objective__\n",
    "\n",
    "* List popular languages for Data Science\n",
    "\n",
    "* List popular libraries for Data Science\n",
    "\n",
    "* List of Well known Data Science Tools\n",
    "\n",
    "* How to Provide comments in the cell"
   ]
  },
  {
   "cell_type": "markdown",
   "id": "518f4633-a122-4631-a974-80dd21328d5e",
   "metadata": {},
   "source": [
    "## Author\n",
    "Manal H"
   ]
  },
  {
   "cell_type": "code",
   "execution_count": null,
   "id": "203e0a4f-64a3-4536-b210-aee3b2cf6fd8",
   "metadata": {},
   "outputs": [],
   "source": []
  }
 ],
 "metadata": {
  "kernelspec": {
   "display_name": "Python",
   "language": "python",
   "name": "conda-env-python-py"
  },
  "language_info": {
   "codemirror_mode": {
    "name": "ipython",
    "version": 3
   },
   "file_extension": ".py",
   "mimetype": "text/x-python",
   "name": "python",
   "nbconvert_exporter": "python",
   "pygments_lexer": "ipython3",
   "version": "3.7.12"
  }
 },
 "nbformat": 4,
 "nbformat_minor": 5
}
